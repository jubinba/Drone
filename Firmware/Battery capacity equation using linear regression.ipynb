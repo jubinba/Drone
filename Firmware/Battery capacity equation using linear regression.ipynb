{
 "cells": [
  {
   "cell_type": "code",
   "execution_count": 2,
   "metadata": {},
   "outputs": [
    {
     "name": "stdout",
     "output_type": "stream",
     "text": [
      "The linear relationship between remaining capacity and voltage is: Remaining Capacity [%] = 125.00* Voltage -895.00\n"
     ]
    }
   ],
   "source": [
    "import numpy as np\n",
    "from sklearn.linear_model import LinearRegression\n",
    "\n",
    "# Data points for voltage and remaining battery capacity\n",
    "\n",
    "voltage = np.array([7.4,7.2]).reshape(-1,1) #The .reshape(-1, 1) converts a 1D array into a 2D array with one column, as required by scikit-learn's LinearRegression which expects input features (𝑋X) to be in a 2D format (rows × columns). The -1 lets NumPy automatically determine the number of rows based on the data size.\n",
    "capacity = np.array([30,5]) # Capacity in percentage\n",
    "\n",
    "# Linear Regression Model\n",
    "\n",
    "model = LinearRegression()\n",
    "model.fit(voltage,capacity)\n",
    "\n",
    "# Get the slope(m) and the intercept(c) of the linear regression line\n",
    "slope = model.coef_[0] # Extracts the slope(m) of the linear regression line\n",
    "                       # model.coef_ is returned as an arry even if there is only one element\n",
    "                       # The [0] is used to access the first(and only) element of that array(slope)\n",
    "\n",
    "intercept = model.intercept_\n",
    "\n",
    "# Display the resulting equation \n",
    "print(f\"The linear relationship between remaining capacity and voltage is: Remaining Capacity [%] = {slope:.2f}* Voltage -{abs(intercept):.2f}\")\n",
    "\n",
    "\n"
   ]
  },
  {
   "cell_type": "code",
   "execution_count": null,
   "metadata": {},
   "outputs": [],
   "source": []
  }
 ],
 "metadata": {
  "kernelspec": {
   "display_name": "Python 3",
   "language": "python",
   "name": "python3"
  },
  "language_info": {
   "codemirror_mode": {
    "name": "ipython",
    "version": 3
   },
   "file_extension": ".py",
   "mimetype": "text/x-python",
   "name": "python",
   "nbconvert_exporter": "python",
   "pygments_lexer": "ipython3",
   "version": "3.10.8"
  }
 },
 "nbformat": 4,
 "nbformat_minor": 2
}
